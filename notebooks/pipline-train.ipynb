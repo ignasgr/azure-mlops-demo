{
 "cells": [
  {
   "cell_type": "code",
   "execution_count": 1,
   "metadata": {},
   "outputs": [],
   "source": [
    "from azure.ai.ml import MLClient, command, Input, Output\n",
    "from azure.ai.ml.dsl import pipeline\n",
    "from azure.ai.ml.entities import (\n",
    "    AmlCompute,\n",
    "    IdentityConfiguration,\n",
    "    Environment,\n",
    "    Model,\n",
    "    ManagedOnlineEndpoint,\n",
    "    ManagedOnlineDeployment,\n",
    "    CodeConfiguration\n",
    ")\n",
    "from azure.ai.ml.constants import AssetTypes\n",
    "from azure.identity import DefaultAzureCredential"
   ]
  },
  {
   "cell_type": "code",
   "execution_count": 2,
   "metadata": {},
   "outputs": [],
   "source": [
    "credential = DefaultAzureCredential()\n",
    "ml_client = MLClient(\n",
    "    credential=credential,\n",
    "    subscription_id=\"814b44e2-bd64-4baa-b7eb-954e6b82a85e\",\n",
    "    resource_group_name=\"mlops-demo-rg\",\n",
    "    workspace_name=\"mlw-dev\"\n",
    ")"
   ]
  },
  {
   "cell_type": "markdown",
   "metadata": {},
   "source": [
    "## Infrastructure - Compute"
   ]
  },
  {
   "cell_type": "code",
   "execution_count": null,
   "metadata": {},
   "outputs": [],
   "source": [
    "# configure\n",
    "compute_clu = AmlCompute(\n",
    "    name=\"clu-small-cpu\",\n",
    "    type=\"amlcompute\",\n",
    "    size=\"Standard_D2_v3\",\n",
    "    location=\"centralus\", # should be same as workspace\n",
    "    tier=\"Dedicated\",\n",
    "    identity=IdentityConfiguration(type=\"system_assigned\"),\n",
    "    min_instances=0,\n",
    "    max_instances=2,\n",
    "    idle_time_before_scale_down=120,\n",
    "    ssh_public_access_enabled=False,\n",
    ")\n",
    "\n",
    "# create\n",
    "ml_client.begin_create_or_update(compute_clu).result()"
   ]
  },
  {
   "cell_type": "markdown",
   "metadata": {},
   "source": [
    "## Infrastructure - Environment"
   ]
  },
  {
   "cell_type": "code",
   "execution_count": null,
   "metadata": {},
   "outputs": [],
   "source": [
    "# configure\n",
    "env_docker_conda = Environment(\n",
    "    name=\"mlops-demo-train\",\n",
    "    version=\"3\",\n",
    "    image=\"mcr.microsoft.com/azureml/openmpi4.1.0-ubuntu20.04\",\n",
    "    conda_file=\"../environments/requirements-train.yaml\",\n",
    ")\n",
    "\n",
    "# create\n",
    "ml_client.environments.create_or_update(env_docker_conda)"
   ]
  },
  {
   "cell_type": "markdown",
   "metadata": {},
   "source": [
    "## Components"
   ]
  },
  {
   "cell_type": "code",
   "execution_count": 49,
   "metadata": {},
   "outputs": [],
   "source": [
    "preprocess_component = command(\n",
    "    name=\"process_data\",\n",
    "    display_name=\"Data Processor\",\n",
    "    inputs={\n",
    "        \"train_size\": Input(type=\"number\")\n",
    "    },\n",
    "    outputs={\n",
    "        \"train_data\": Output(type=\"uri_folder\"),\n",
    "        \"test_data\": Output(type=\"uri_folder\"),\n",
    "    },\n",
    "    code=\"../src\",\n",
    "    command=\"\"\"python preprocess.py \\\n",
    "    --train_size ${{inputs.train_size}} \\\n",
    "    --train_data ${{outputs.train_data}} \\\n",
    "    --test_data ${{outputs.test_data}} \\\n",
    "    \"\"\",\n",
    "    compute=\"clu-small-cpu\",\n",
    "    environment=\"mlops-demo-train:3\",\n",
    ")"
   ]
  },
  {
   "cell_type": "code",
   "execution_count": 50,
   "metadata": {},
   "outputs": [],
   "source": [
    "train_component = command(\n",
    "    name=\"train_model\",\n",
    "    display_name=\"Model Trainer\",\n",
    "    inputs={\n",
    "        \"input_data\": Input(type=\"uri_folder\")\n",
    "    },\n",
    "    outputs={\n",
    "        \"output_model\": Output(type=\"uri_folder\")\n",
    "    },\n",
    "    code=\"../src\",\n",
    "    command=\"\"\"python train.py \\\n",
    "    --input_data ${{inputs.input_data}} \\\n",
    "    --output_model ${{outputs.output_model}} \\\n",
    "    \"\"\",\n",
    "    compute=\"clu-small-cpu\",\n",
    "    environment=\"mlops-demo-train:3\"\n",
    ")"
   ]
  },
  {
   "cell_type": "code",
   "execution_count": 51,
   "metadata": {},
   "outputs": [],
   "source": [
    "evaluate_component = command(\n",
    "    name=\"eval_model\",\n",
    "    display_name=\"Model Evaluator\",\n",
    "    inputs={\n",
    "        \"input_model\": Input(type=\"uri_folder\"),\n",
    "        \"input_data\": Input(type=\"uri_folder\")\n",
    "    },\n",
    "    code=\"../src\",\n",
    "    command=\"\"\"python evaluate.py \\\n",
    "    --input_model ${{inputs.input_model}} \\\n",
    "    --input_data ${{inputs.input_data}} \\\n",
    "    \"\"\",\n",
    "    compute=\"clu-small-cpu\",\n",
    "    environment=\"mlops-demo-train:3\"\n",
    ")"
   ]
  },
  {
   "cell_type": "markdown",
   "metadata": {},
   "source": [
    "## Pipeline"
   ]
  },
  {
   "cell_type": "code",
   "execution_count": 52,
   "metadata": {},
   "outputs": [],
   "source": [
    "@pipeline\n",
    "def train_pipeline(train_size: float):\n",
    "\n",
    "    preprocess_job = preprocess_component(\n",
    "        train_size=train_size\n",
    "    )\n",
    "\n",
    "    train_job = train_component(\n",
    "        input_data=preprocess_job.outputs.train_data\n",
    "    )\n",
    "\n",
    "    evaluate_job = evaluate_component(\n",
    "        input_data=preprocess_job.outputs.test_data,\n",
    "        input_model=train_job.outputs.output_model\n",
    "    )\n",
    "\n",
    "    return {\"model\": train_job.outputs.output_model}"
   ]
  },
  {
   "cell_type": "code",
   "execution_count": null,
   "metadata": {},
   "outputs": [],
   "source": [
    "pipeline_job = train_pipeline(\n",
    "    train_size=0.80\n",
    ")\n",
    "\n",
    "pipeline_job = ml_client.jobs.create_or_update(pipeline_job, experiment_name=\"aml-pipelines\")"
   ]
  },
  {
   "cell_type": "markdown",
   "metadata": {},
   "source": [
    "## Register Model"
   ]
  },
  {
   "cell_type": "code",
   "execution_count": null,
   "metadata": {},
   "outputs": [],
   "source": [
    "pipeline_job.name"
   ]
  },
  {
   "cell_type": "code",
   "execution_count": 48,
   "metadata": {},
   "outputs": [],
   "source": [
    "model_name = \"bow-sentiment\""
   ]
  },
  {
   "cell_type": "code",
   "execution_count": null,
   "metadata": {},
   "outputs": [],
   "source": [
    "pipeline_model = Model(\n",
    "    path=f\"azureml://jobs/{pipeline_job.name}/outputs/model/model_pipeline.pkl\", # job id from pipeline\n",
    "    name=model_name,\n",
    "    version=\"1\"\n",
    ")\n",
    "\n",
    "ml_client.models.create_or_update(pipeline_model)"
   ]
  },
  {
   "cell_type": "code",
   "execution_count": 49,
   "metadata": {},
   "outputs": [],
   "source": [
    "registered_model = ml_client.models.get(name=model_name, version=1)"
   ]
  },
  {
   "cell_type": "code",
   "execution_count": null,
   "metadata": {},
   "outputs": [],
   "source": [
    "registered_model.path"
   ]
  },
  {
   "cell_type": "markdown",
   "metadata": {},
   "source": [
    "## Create Endpoint"
   ]
  },
  {
   "cell_type": "code",
   "execution_count": 5,
   "metadata": {},
   "outputs": [],
   "source": [
    "endpoint_name = \"sentiment-ep\""
   ]
  },
  {
   "cell_type": "code",
   "execution_count": null,
   "metadata": {},
   "outputs": [],
   "source": [
    "# create an online endpoint\n",
    "endpoint = ManagedOnlineEndpoint(\n",
    "    name=endpoint_name,\n",
    "    auth_mode=\"key\"\n",
    ")\n",
    "\n",
    "ml_client.online_endpoints.begin_create_or_update(endpoint).result()"
   ]
  },
  {
   "cell_type": "markdown",
   "metadata": {},
   "source": [
    "## Create Inf Env"
   ]
  },
  {
   "cell_type": "code",
   "execution_count": null,
   "metadata": {},
   "outputs": [],
   "source": [
    "# configure\n",
    "env_inf = Environment(\n",
    "    name=\"mlops-demo-inf\",\n",
    "    version=\"1\",\n",
    "    image=\"mcr.microsoft.com/azureml/openmpi4.1.0-ubuntu20.04\",\n",
    "    conda_file=\"../environments/requirements-inf.yaml\",\n",
    ")\n",
    "\n",
    "# create\n",
    "ml_client.environments.create_or_update(env_inf)"
   ]
  },
  {
   "cell_type": "markdown",
   "metadata": {},
   "source": [
    "## Create Deployment"
   ]
  },
  {
   "cell_type": "code",
   "execution_count": 87,
   "metadata": {},
   "outputs": [],
   "source": [
    "deployment_name = \"red\""
   ]
  },
  {
   "cell_type": "code",
   "execution_count": 88,
   "metadata": {},
   "outputs": [],
   "source": [
    "deployment = ManagedOnlineDeployment(\n",
    "    name=deployment_name,\n",
    "    endpoint_name=endpoint_name,\n",
    "    model=f\"{model_name}:1\",\n",
    "    environment=\"mlops-demo-inf:1\",\n",
    "    code_configuration=CodeConfiguration(\n",
    "        code=\"../src\", scoring_script=\"score.py\"\n",
    "    ),\n",
    "    instance_type=\"Standard_E2s_v3\",\n",
    "    instance_count=1,\n",
    ")"
   ]
  },
  {
   "cell_type": "code",
   "execution_count": null,
   "metadata": {},
   "outputs": [],
   "source": [
    "ml_client.online_deployments.begin_create_or_update(deployment).result()"
   ]
  },
  {
   "cell_type": "code",
   "execution_count": 77,
   "metadata": {},
   "outputs": [],
   "source": [
    "logs = ml_client.online_deployments.get_logs(\n",
    "    name=deployment_name,\n",
    "    endpoint_name=endpoint_name,\n",
    "    lines=50\n",
    ")"
   ]
  },
  {
   "cell_type": "code",
   "execution_count": null,
   "metadata": {},
   "outputs": [],
   "source": [
    "# blue deployment takes 100 traffic\n",
    "endpoint.traffic = {deployment_name: 100}\n",
    "ml_client.online_endpoints.begin_create_or_update(endpoint)"
   ]
  }
 ],
 "metadata": {
  "kernelspec": {
   "display_name": "mlops-demo",
   "language": "python",
   "name": "python3"
  },
  "language_info": {
   "codemirror_mode": {
    "name": "ipython",
    "version": 3
   },
   "file_extension": ".py",
   "mimetype": "text/x-python",
   "name": "python",
   "nbconvert_exporter": "python",
   "pygments_lexer": "ipython3",
   "version": "3.11.9"
  }
 },
 "nbformat": 4,
 "nbformat_minor": 2
}
